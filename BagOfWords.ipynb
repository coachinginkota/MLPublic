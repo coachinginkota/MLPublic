{
  "nbformat": 4,
  "nbformat_minor": 0,
  "metadata": {
    "colab": {
      "name": "BagOfWords.ipynb",
      "provenance": []
    },
    "kernelspec": {
      "name": "python3",
      "display_name": "Python 3"
    }
  },
  "cells": [
    {
      "cell_type": "code",
      "metadata": {
        "colab": {
          "base_uri": "https://localhost:8080/"
        },
        "id": "xCTN5D2rR-Mf",
        "outputId": "82caf0a3-9f98-4d5a-ec62-6cb4c2bfa38c"
      },
      "source": [
        "from sklearn.feature_extraction.text import CountVectorizer\r\n",
        "corpus = [\r\n",
        "    'This is the first article.',\r\n",
        "    'This document is the second.',\r\n",
        "    'And this is the third.'\r\n",
        "]\r\n",
        "\r\n",
        "vectorizer = CountVectorizer(analyzer='word', ngram_range=(3, 3)) # or CountVectorizer()\r\n",
        "X = vectorizer.fit_transform(corpus)\r\n",
        "print(vectorizer.get_feature_names())\r\n",
        "\r\n",
        "print(X.toarray())"
      ],
      "execution_count": 3,
      "outputs": [
        {
          "output_type": "stream",
          "text": [
            "['and this is', 'document is the', 'is the first', 'is the second', 'is the third', 'the first article', 'this document is', 'this is the']\n",
            "[[0 0 1 0 0 1 0 1]\n",
            " [0 1 0 1 0 0 1 0]\n",
            " [1 0 0 0 1 0 0 1]]\n"
          ],
          "name": "stdout"
        }
      ]
    }
  ]
}