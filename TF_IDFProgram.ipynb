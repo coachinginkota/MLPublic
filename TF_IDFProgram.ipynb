{
  "nbformat": 4,
  "nbformat_minor": 0,
  "metadata": {
    "colab": {
      "name": "TF_IDF.ipynb",
      "provenance": []
    },
    "kernelspec": {
      "name": "python3",
      "display_name": "Python 3"
    }
  },
  "cells": [
    {
      "cell_type": "code",
      "metadata": {
        "id": "nkC2bgSmeBMl"
      },
      "source": [
        "import pandas as pd\r\n",
        "import math"
      ],
      "execution_count": 7,
      "outputs": []
    },
    {
      "cell_type": "code",
      "metadata": {
        "id": "YvG1GCApeD-1"
      },
      "source": [
        "doc1 = [\"The sky is blue.\", \"The sun is bright today.\"]\r\n",
        "\r\n",
        "doc2 = [\"The sun in the sky is bright.\", \"We can see the shining sun, the bright sun.\"]\r\n",
        "        \r\n"
      ],
      "execution_count": 22,
      "outputs": []
    },
    {
      "cell_type": "markdown",
      "metadata": {
        "id": "oIX6DHPlf9Rx"
      },
      "source": [
        "**Create tokens for each document**"
      ]
    },
    {
      "cell_type": "code",
      "metadata": {
        "id": "hzqJkbwfeGxT",
        "colab": {
          "base_uri": "https://localhost:8080/"
        },
        "outputId": "7516b306-187a-4aec-e1e2-4eae24635615"
      },
      "source": [
        "doc1_tokens = sum([doc.lower().replace(',', '').replace('.', '').split() for doc in doc1], [])\r\n",
        "doc2_tokens = sum([doc.lower().replace(',', '').replace('.', '').split() for doc in doc2], [])\r\n",
        "\r\n",
        "print(doc1_tokens)\r\n",
        "print('\\n')\r\n",
        "print(doc2_tokens)\r\n"
      ],
      "execution_count": 9,
      "outputs": [
        {
          "output_type": "stream",
          "text": [
            "['the', 'sky', 'is', 'blue', 'the', 'sun', 'is', 'bright', 'today']\n",
            "\n",
            "\n",
            "['the', 'sun', 'in', 'the', 'sky', 'is', 'bright', 'we', 'can', 'see', 'the', 'shining', 'sun', 'the', 'bright', 'sun']\n"
          ],
          "name": "stdout"
        }
      ]
    },
    {
      "cell_type": "markdown",
      "metadata": {
        "id": "Us1v7QzZggmx"
      },
      "source": [
        "**Remove stop words**"
      ]
    },
    {
      "cell_type": "code",
      "metadata": {
        "id": "I5M9gewSeMx7",
        "colab": {
          "base_uri": "https://localhost:8080/"
        },
        "outputId": "e9b48a5c-d878-42ec-a8ff-b14671685244"
      },
      "source": [
        "stopwords = ['a', 'the', 'i', 'me',  'is', 'to', 'then', 'what', 'are', 'for', 'my', 'as', 'can', 'and', 'in', 'of', 'am', 'it']\r\n",
        "\r\n",
        "doc1_tokens = set(doc1_tokens) - set(stopwords)\r\n",
        "doc2_tokens = set(doc2_tokens) - set(stopwords)\r\n",
        "\r\n",
        "\r\n",
        "print(doc1_tokens)\r\n",
        "print(doc2_tokens)\r\n"
      ],
      "execution_count": 23,
      "outputs": [
        {
          "output_type": "stream",
          "text": [
            "{'sky', 'sun', 'today', 'blue', 'bright'}\n",
            "{'shining', 'sky', 'sun', 'see', 'we', 'bright'}\n"
          ],
          "name": "stdout"
        }
      ]
    },
    {
      "cell_type": "markdown",
      "metadata": {
        "id": "hSJpFL_reSQc"
      },
      "source": [
        "**Find the unique set of tokens.**"
      ]
    },
    {
      "cell_type": "code",
      "metadata": {
        "id": "_YqwzP8jeTBL",
        "colab": {
          "base_uri": "https://localhost:8080/"
        },
        "outputId": "e534a1c6-d246-45ce-a403-5574095f5ed2"
      },
      "source": [
        "unique_tokens = set(doc1_tokens).union(set(doc2_tokens))\r\n",
        "\r\n",
        "print(unique_tokens)"
      ],
      "execution_count": 24,
      "outputs": [
        {
          "output_type": "stream",
          "text": [
            "{'shining', 'sky', 'sun', 'see', 'we', 'today', 'blue', 'bright'}\n"
          ],
          "name": "stdout"
        }
      ]
    },
    {
      "cell_type": "markdown",
      "metadata": {
        "id": "x4fcOHJGeZGT"
      },
      "source": [
        "\r\n",
        "**Maintain a dict to keep track of count of the unique words in the individual doc**"
      ]
    },
    {
      "cell_type": "code",
      "metadata": {
        "id": "f45STvOxeaij",
        "colab": {
          "base_uri": "https://localhost:8080/"
        },
        "outputId": "11479480-05fd-4d2e-ff1a-2deb6b6fa0af"
      },
      "source": [
        "count_doc1 = dict.fromkeys(unique_tokens, 0)\r\n",
        "for token in doc1_tokens:\r\n",
        "    count_doc1[token] += 1\r\n",
        "    \r\n",
        "count_doc2 = dict.fromkeys(unique_tokens, 0)\r\n",
        "for token in doc2_tokens:\r\n",
        "    count_doc2[token] += 1\r\n",
        "    \r\n",
        "  \r\n",
        "print(count_doc1)\r\n",
        "print('\\n')\r\n",
        "print(count_doc2)\r\n"
      ],
      "execution_count": 25,
      "outputs": [
        {
          "output_type": "stream",
          "text": [
            "{'shining': 0, 'sky': 1, 'sun': 1, 'see': 0, 'we': 0, 'today': 1, 'blue': 1, 'bright': 1}\n",
            "\n",
            "\n",
            "{'shining': 1, 'sky': 1, 'sun': 1, 'see': 1, 'we': 1, 'today': 0, 'blue': 0, 'bright': 1}\n"
          ],
          "name": "stdout"
        }
      ]
    },
    {
      "cell_type": "markdown",
      "metadata": {
        "id": "vGifi8diel_q"
      },
      "source": [
        "**Calculate term frequency (TF):**"
      ]
    },
    {
      "cell_type": "code",
      "metadata": {
        "id": "_tAVelAeempS",
        "colab": {
          "base_uri": "https://localhost:8080/"
        },
        "outputId": "1252c6b3-4f45-4044-c444-236ff3366e36"
      },
      "source": [
        "def calculate_tf(count_doc, doc_tokens):\r\n",
        "    tf = dict()\r\n",
        "    for token, count in count_doc.items():\r\n",
        "        tf[token] = count / float(len(doc_tokens))\r\n",
        "    return tf\r\n",
        "    \r\n",
        "tf1 = calculate_tf(count_doc=count_doc1, doc_tokens=doc1_tokens)\r\n",
        "tf2 = calculate_tf(count_doc=count_doc2, doc_tokens=doc2_tokens)\r\n",
        "\r\n",
        "print(tf1)\r\n",
        "print('\\n', tf2)\r\n"
      ],
      "execution_count": 27,
      "outputs": [
        {
          "output_type": "stream",
          "text": [
            "{'shining': 0.0, 'sky': 0.2, 'sun': 0.2, 'see': 0.0, 'we': 0.0, 'today': 0.2, 'blue': 0.2, 'bright': 0.2}\n",
            "\n",
            " {'shining': 0.16666666666666666, 'sky': 0.16666666666666666, 'sun': 0.16666666666666666, 'see': 0.16666666666666666, 'we': 0.16666666666666666, 'today': 0.0, 'blue': 0.0, 'bright': 0.16666666666666666}\n"
          ],
          "name": "stdout"
        }
      ]
    },
    {
      "cell_type": "markdown",
      "metadata": {
        "id": "KEdhlfvnevGK"
      },
      "source": [
        "**Calculate inverse document frequency IDF**\r\n"
      ]
    },
    {
      "cell_type": "code",
      "metadata": {
        "id": "VtEJoiFvexKC",
        "colab": {
          "base_uri": "https://localhost:8080/"
        },
        "outputId": "6b00c270-a69a-4a01-b6f7-7d82ad4cc4f2"
      },
      "source": [
        "def calculate_idf(doc_counts):\r\n",
        "    idf = dict.fromkeys(doc_counts[0].keys(), 0)\r\n",
        "    for doc in doc_counts: \r\n",
        "        for token, count in doc.items():\r\n",
        "            if count!=0:\r\n",
        "                idf[token] += 1\r\n",
        "\r\n",
        "             \r\n",
        "    for token, count in idf.items():\r\n",
        "        idf[token] = math.log(len(doc_counts) / float(count))\r\n",
        "       \r\n",
        "    return idf\r\n",
        "\r\n",
        "idf = calculate_idf([count_doc1, count_doc2])\r\n",
        "print(idf)\r\n"
      ],
      "execution_count": 28,
      "outputs": [
        {
          "output_type": "stream",
          "text": [
            "{'shining': 0.6931471805599453, 'sky': 0.0, 'sun': 0.0, 'see': 0.6931471805599453, 'we': 0.6931471805599453, 'today': 0.6931471805599453, 'blue': 0.6931471805599453, 'bright': 0.0}\n"
          ],
          "name": "stdout"
        }
      ]
    },
    {
      "cell_type": "markdown",
      "metadata": {
        "id": "4khAsYafe-0y"
      },
      "source": [
        "**Calculate TF-IDF**"
      ]
    },
    {
      "cell_type": "code",
      "metadata": {
        "id": "3NzjrniIe8Ge"
      },
      "source": [
        "def calculate_tfidf(tf, idf):\r\n",
        "    tfidf = dict()\r\n",
        "    for token, count in tf.items():\r\n",
        "        tfidf[token] = count * idf[token]\r\n",
        "    return tfidf"
      ],
      "execution_count": 29,
      "outputs": []
    },
    {
      "cell_type": "code",
      "metadata": {
        "id": "i455zLVjfBPX"
      },
      "source": [
        "\r\n",
        "tfidf1 = calculate_tfidf(tf1, idf)\r\n",
        "tfidf2 = calculate_tfidf(tf2, idf)\r\n"
      ],
      "execution_count": 30,
      "outputs": []
    },
    {
      "cell_type": "markdown",
      "metadata": {
        "id": "2KFAIa_KfDxw"
      },
      "source": [
        "**Create a dataframe for all the calculated values**"
      ]
    },
    {
      "cell_type": "code",
      "metadata": {
        "id": "gmTz_TndfIxp",
        "colab": {
          "base_uri": "https://localhost:8080/",
          "height": 111
        },
        "outputId": "f0fbfd50-77ff-41be-bbbf-55a7e16430c7"
      },
      "source": [
        "tfidf_df = pd.DataFrame([tfidf1, tfidf2])\r\n",
        "tfidf_df"
      ],
      "execution_count": 31,
      "outputs": [
        {
          "output_type": "execute_result",
          "data": {
            "text/html": [
              "<div>\n",
              "<style scoped>\n",
              "    .dataframe tbody tr th:only-of-type {\n",
              "        vertical-align: middle;\n",
              "    }\n",
              "\n",
              "    .dataframe tbody tr th {\n",
              "        vertical-align: top;\n",
              "    }\n",
              "\n",
              "    .dataframe thead th {\n",
              "        text-align: right;\n",
              "    }\n",
              "</style>\n",
              "<table border=\"1\" class=\"dataframe\">\n",
              "  <thead>\n",
              "    <tr style=\"text-align: right;\">\n",
              "      <th></th>\n",
              "      <th>shining</th>\n",
              "      <th>sky</th>\n",
              "      <th>sun</th>\n",
              "      <th>see</th>\n",
              "      <th>we</th>\n",
              "      <th>today</th>\n",
              "      <th>blue</th>\n",
              "      <th>bright</th>\n",
              "    </tr>\n",
              "  </thead>\n",
              "  <tbody>\n",
              "    <tr>\n",
              "      <th>0</th>\n",
              "      <td>0.000000</td>\n",
              "      <td>0.0</td>\n",
              "      <td>0.0</td>\n",
              "      <td>0.000000</td>\n",
              "      <td>0.000000</td>\n",
              "      <td>0.138629</td>\n",
              "      <td>0.138629</td>\n",
              "      <td>0.0</td>\n",
              "    </tr>\n",
              "    <tr>\n",
              "      <th>1</th>\n",
              "      <td>0.115525</td>\n",
              "      <td>0.0</td>\n",
              "      <td>0.0</td>\n",
              "      <td>0.115525</td>\n",
              "      <td>0.115525</td>\n",
              "      <td>0.000000</td>\n",
              "      <td>0.000000</td>\n",
              "      <td>0.0</td>\n",
              "    </tr>\n",
              "  </tbody>\n",
              "</table>\n",
              "</div>"
            ],
            "text/plain": [
              "    shining  sky  sun       see        we     today      blue  bright\n",
              "0  0.000000  0.0  0.0  0.000000  0.000000  0.138629  0.138629     0.0\n",
              "1  0.115525  0.0  0.0  0.115525  0.115525  0.000000  0.000000     0.0"
            ]
          },
          "metadata": {
            "tags": []
          },
          "execution_count": 31
        }
      ]
    }
  ]
}